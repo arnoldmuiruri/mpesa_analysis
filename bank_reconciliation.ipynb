{
 "cells": [
  {
   "cell_type": "code",
   "execution_count": 1,
   "metadata": {
    "collapsed": false,
    "tags": [],
    "ExecuteTime": {
     "end_time": "2023-09-25T12:53:20.802580100Z",
     "start_time": "2023-09-25T12:53:19.338587500Z"
    }
   },
   "outputs": [],
   "source": [
    "from tabula.io import read_pdf\n",
    "import pandas as pd\n",
    "import numpy as np"
   ]
  },
  {
   "cell_type": "code",
   "execution_count": 29,
   "metadata": {
    "collapsed": false,
    "tags": [],
    "ExecuteTime": {
     "end_time": "2023-09-25T13:04:26.829403300Z",
     "start_time": "2023-09-25T13:04:26.629341100Z"
    }
   },
   "outputs": [],
   "source": [
    "# Replace 'bank_statement.pdf' with the actual path to your PDF file\n",
    "pdf_file_path = \"C://Users//bank_statement.pdf\"\n",
    "\n",
    "#This is the password to the MPESA document. If the file is already decrypted you can ignore this \n",
    "#password = \"223245\""
   ]
  },
  {
   "cell_type": "code",
   "execution_count": 30,
   "metadata": {
    "collapsed": false,
    "tags": [],
    "ExecuteTime": {
     "end_time": "2023-09-25T13:04:28.010493100Z",
     "start_time": "2023-09-25T13:04:27.983750600Z"
    }
   },
   "outputs": [],
   "source": [
    "def data_cleaning(data_frame):\n",
    "    # Dropping the unnecessary columns\n",
    "    data_frame = data_frame.drop(data_frame.columns[7:], axis=1)\n",
    "    data_frame = data_frame.drop(data_frame.columns[[3]], axis=1)\n",
    "    #Dropping NA rows in the receipt no. column\n",
    "    data_frame = data_frame.dropna(subset=\"Receipt No.\")\n",
    "    #converting completion time to date object\n",
    "    data_frame[\"Completion Time\"] = pd.to_datetime(data_frame[\"Completion Time\"]).dt.normalize()\n",
    "    #replacing \\r in the details column with space\n",
    "    data_frame[\"Details\"] =  data_frame[\"Details\"].str.replace(r\"\\r\",\" \",regex=True)\n",
    "    #replacing the minus sign in the withdrawn column\n",
    "    data_frame[\"Withdrawn\"] = data_frame[\"Withdrawn\"].str.replace(\"-\",\"\")\n",
    "    cols=[\"Paid In\",\"Withdrawn\",\"Balance\"]\n",
    "    data_frame[cols]= data_frame[cols].replace(\",\",\"\",regex=True)\n",
    "    #converting NAN to zero\n",
    "    data_frame= data_frame.fillna(0)\n",
    "    data_frame[cols] = data_frame[cols].apply(pd.to_numeric,axis=1)\n",
    "    data_frame = data_frame.reindex(index=data_frame.index[::-1])\n",
    "\n",
    "    return data_frame"
   ]
  },
  {
   "cell_type": "code",
   "execution_count": 31,
   "metadata": {
    "collapsed": false,
    "tags": [],
    "ExecuteTime": {
     "end_time": "2023-09-25T13:04:29.497299Z",
     "start_time": "2023-09-25T13:04:29.497299Z"
    }
   },
   "outputs": [],
   "source": [
    "def extract_tables_from_pdf(pdf_file):\n",
    "    # Read the tables from the PDF file\n",
    "    tables = read_pdf(pdf_file, pages=\"all\", multiple_tables=True)\n",
    "    \n",
    "    #if the file is not yet decrypted use this instead\n",
    "    #tables = tabula.read_pdf(pdf_file,pages = \"all\", multiple_tables=True, password= password)\n",
    "\n",
    "    # Combine all tables except the first one into a single DataFrame\n",
    "    # We start at table 2 to ignore the summary tables\n",
    "    combined_df = pd.concat(tables[2:], ignore_index=True)\n",
    "    combined_df = data_cleaning(combined_df)\n",
    "    return combined_df"
   ]
  },
  {
   "cell_type": "code",
   "execution_count": null,
   "metadata": {
    "collapsed": false,
    "pycharm": {
     "is_executing": true
    },
    "tags": []
   },
   "outputs": [],
   "source": [
    "combined_data_frame = extract_tables_from_pdf(pdf_file_path)\n",
    "combined_data_frame.head()"
   ]
  },
  {
   "cell_type": "code",
   "execution_count": 33,
   "metadata": {
    "collapsed": false,
    "tags": [],
    "ExecuteTime": {
     "end_time": "2023-09-25T13:04:52.603660800Z",
     "start_time": "2023-09-25T13:04:52.560275100Z"
    }
   },
   "outputs": [
    {
     "data": {
      "text/plain": "Receipt No.                object\nCompletion Time    datetime64[ns]\nDetails                    object\nPaid In                   float64\nWithdrawn                 float64\nBalance                   float64\ndtype: object"
     },
     "execution_count": 33,
     "metadata": {},
     "output_type": "execute_result"
    }
   ],
   "source": [
    "combined_data_frame.dtypes"
   ]
  },
  {
   "cell_type": "code",
   "execution_count": 34,
   "metadata": {
    "collapsed": false,
    "tags": [],
    "ExecuteTime": {
     "end_time": "2023-09-25T13:04:53.898826200Z",
     "start_time": "2023-09-25T13:04:53.877625700Z"
    }
   },
   "outputs": [],
   "source": [
    "#Categorisation of transactions\n",
    "categories = {\n",
    "    \"Income\":[\"Funds received from \",\"Deposit of Funds at Agent Till \"],\n",
    "    \"Contra entry\" : [\"Business Payment from \",\"Salary Payment from \"],\n",
    "    \"Loan\" : [\"OverDraft of Credit Party\",\"KCB M-PESA Withdraw\",\"M-Shwari Withdraw\",\"M-Shwari Loan Disburse\"],\n",
    "    \"Airtime\" : [\"Airtime Purchase \",\"Airtime Purchase\"],\n",
    "    \"Bundles\" : [\"Buy Bundles \"],\n",
    "    \"Loan repayment\" : [\"OD Loan Repayment to 232323 - M-PESA Overdraw\",\"M-Shwari Loan Repayment\"],\n",
    "    \"Transaction charges\" : [\"Charge\"],\n",
    "    \"Expenses\" : [\"Pay Bill to \",\"Pay Bill Online to \",\"Pay Bill Fuliza \",\"Customer Payment to Small Business to \",\n",
    "                  \"Customer Transfer Fuliza MPesa to \",\"Merchant Payment to \",\"Customer Transfer to \"],\n",
    "    \"Agent withdrawals\" : [\"Customer Withdrawal At Agent Till \"]\n",
    "}\n"
   ]
  },
  {
   "cell_type": "code",
   "execution_count": 35,
   "metadata": {
    "collapsed": false,
    "tags": [],
    "ExecuteTime": {
     "end_time": "2023-09-25T13:04:54.920611100Z",
     "start_time": "2023-09-25T13:04:54.898271100Z"
    }
   },
   "outputs": [],
   "source": [
    "def transaction_categorisation(df,category):\n",
    "    words = []\n",
    "    mapping_dict = {}\n",
    "\n",
    "    for i,j in category.items():\n",
    "        for item in j:\n",
    "            words.append(item)\n",
    "            mapping_dict[item] = i\n",
    "\n",
    "    joined_text = df[\"Details\"].str.extract(f\"({'|'.join(words)})\")\n",
    "    text_category = joined_text[0].map(mapping_dict)\n",
    "    text_category = text_category.fillna(\"Others\")\n",
    "    return text_category"
   ]
  },
  {
   "cell_type": "code",
   "execution_count": null,
   "metadata": {
    "collapsed": false,
    "pycharm": {
     "is_executing": true
    },
    "tags": []
   },
   "outputs": [],
   "source": [
    "transaction_categories = transaction_categorisation(combined_data_frame,categories)\n",
    "combined_data_frame[\"Transaction Categories\"]=transaction_categories\n",
    "\n",
    "#combined_data_frame.insert(3,\"Transaction Categories\",transaction_categories)\n",
    "combined_data_frame.head()"
   ]
  },
  {
   "cell_type": "code",
   "execution_count": 37,
   "metadata": {
    "collapsed": false,
    "tags": [],
    "ExecuteTime": {
     "end_time": "2023-09-25T13:04:58.583933500Z",
     "start_time": "2023-09-25T13:04:58.521792300Z"
    }
   },
   "outputs": [],
   "source": [
    "#Calculation of DTI\n",
    "total_deposits = combined_data_frame[\"Paid In\"].sum()\n",
    "total_withdrawals = combined_data_frame[\"Withdrawn\"].sum()\n",
    "contra_entry_credits = combined_data_frame.loc[combined_data_frame[\"Transaction Categories\"] ==\"Contra entry\",\"Paid In\"].sum()\n",
    "contra_entry_debits = combined_data_frame.loc[combined_data_frame[\"Transaction Categories\"] ==\"Contra entry\",\"Withdrawn\"].sum()\n",
    "net_amount = total_deposits - contra_entry_credits\n",
    "average_monthly_credits = net_amount/((combined_data_frame[\"Completion Time\"].iloc[0] - combined_data_frame[\"Completion Time\"].iloc[-1])/np.timedelta64(\"1\",\"M\"))\n",
    "business_dti = average_monthly_credits * 0.10"
   ]
  },
  {
   "cell_type": "code",
   "execution_count": 38,
   "metadata": {
    "collapsed": false,
    "tags": [],
    "ExecuteTime": {
     "end_time": "2023-09-25T13:04:59.741334800Z",
     "start_time": "2023-09-25T13:04:59.710390300Z"
    }
   },
   "outputs": [],
   "source": [
    "# #Creating dataframe of dates and balances\n",
    "def calculate_daily_balances(dataframe):\n",
    "\n",
    "    unique_dates = dataframe[\"Completion Time\"].unique()\n",
    "    daily_dates = pd.date_range(start=dataframe[\"Completion Time\"].min(),\n",
    "                                 end=dataframe[\"Completion Time\"].max(),freq=\"D\")\n",
    "\n",
    "    cols = [\"Completion Time\",\"Balance\"]\n",
    "    daily_balances = dataframe[cols].copy()\n",
    "    daily_balances = daily_balances.drop_duplicates(\"Completion Time\",keep=\"last\")\n",
    "    daily_balances = daily_balances.set_index(\"Completion Time\",drop=False)\n",
    "\n",
    "    if len(unique_dates) != len(daily_dates):\n",
    "        daily_balances = daily_balances.resample(\"D\").asfreq().fillna(method=\"ffill\")\n",
    "        return daily_balances\n",
    "\n",
    "    else:\n",
    "        return daily_balances"
   ]
  },
  {
   "cell_type": "code",
   "execution_count": 39,
   "metadata": {
    "collapsed": false,
    "tags": [],
    "ExecuteTime": {
     "end_time": "2023-09-25T13:05:00.897055500Z",
     "start_time": "2023-09-25T13:05:00.786701200Z"
    }
   },
   "outputs": [
    {
     "data": {
      "text/plain": "                Completion Time   Balance\nCompletion Time                          \n2023-02-16           2023-02-16  21430.02\n2023-02-17           2023-02-17  95885.02\n2023-02-18           2023-02-18  16359.02\n2023-02-19           2023-02-19  14049.02\n2023-02-20           2023-02-20     73.52",
      "text/html": "<div>\n<style scoped>\n    .dataframe tbody tr th:only-of-type {\n        vertical-align: middle;\n    }\n\n    .dataframe tbody tr th {\n        vertical-align: top;\n    }\n\n    .dataframe thead th {\n        text-align: right;\n    }\n</style>\n<table border=\"1\" class=\"dataframe\">\n  <thead>\n    <tr style=\"text-align: right;\">\n      <th></th>\n      <th>Completion Time</th>\n      <th>Balance</th>\n    </tr>\n    <tr>\n      <th>Completion Time</th>\n      <th></th>\n      <th></th>\n    </tr>\n  </thead>\n  <tbody>\n    <tr>\n      <th>2023-02-16</th>\n      <td>2023-02-16</td>\n      <td>21430.02</td>\n    </tr>\n    <tr>\n      <th>2023-02-17</th>\n      <td>2023-02-17</td>\n      <td>95885.02</td>\n    </tr>\n    <tr>\n      <th>2023-02-18</th>\n      <td>2023-02-18</td>\n      <td>16359.02</td>\n    </tr>\n    <tr>\n      <th>2023-02-19</th>\n      <td>2023-02-19</td>\n      <td>14049.02</td>\n    </tr>\n    <tr>\n      <th>2023-02-20</th>\n      <td>2023-02-20</td>\n      <td>73.52</td>\n    </tr>\n  </tbody>\n</table>\n</div>"
     },
     "execution_count": 39,
     "metadata": {},
     "output_type": "execute_result"
    }
   ],
   "source": [
    "latest_running_balance = calculate_daily_balances(combined_data_frame)\n",
    "latest_running_balance.head()"
   ]
  },
  {
   "cell_type": "code",
   "execution_count": 40,
   "metadata": {
    "collapsed": false,
    "tags": [],
    "ExecuteTime": {
     "end_time": "2023-09-25T13:05:02.334198Z",
     "start_time": "2023-09-25T13:05:02.302490400Z"
    }
   },
   "outputs": [
    {
     "name": "stderr",
     "output_type": "stream",
     "text": [
      "C:\\Users\\bogge\\AppData\\Local\\Temp\\ipykernel_15320\\687729859.py:1: FutureWarning:\n",
      "\n",
      "The default value of numeric_only in DataFrameGroupBy.sum is deprecated. In a future version, numeric_only will default to False. Either specify numeric_only or select only columns which should be valid for the function.\n",
      "\n"
     ]
    },
    {
     "data": {
      "text/plain": "                   Paid In   Withdrawn\nCompletion Time                       \n2023-02-28       1162121.0  1101231.00\n2023-03-31       3468817.0  3534704.95\n2023-04-30       3649738.0  3648510.50\n2023-05-31       3746806.0  3760828.90\n2023-06-30       4986255.0  4986397.00\n2023-07-31       3586468.0  3740236.50\n2023-08-31       2071777.0  1930612.50",
      "text/html": "<div>\n<style scoped>\n    .dataframe tbody tr th:only-of-type {\n        vertical-align: middle;\n    }\n\n    .dataframe tbody tr th {\n        vertical-align: top;\n    }\n\n    .dataframe thead th {\n        text-align: right;\n    }\n</style>\n<table border=\"1\" class=\"dataframe\">\n  <thead>\n    <tr style=\"text-align: right;\">\n      <th></th>\n      <th>Paid In</th>\n      <th>Withdrawn</th>\n    </tr>\n    <tr>\n      <th>Completion Time</th>\n      <th></th>\n      <th></th>\n    </tr>\n  </thead>\n  <tbody>\n    <tr>\n      <th>2023-02-28</th>\n      <td>1162121.0</td>\n      <td>1101231.00</td>\n    </tr>\n    <tr>\n      <th>2023-03-31</th>\n      <td>3468817.0</td>\n      <td>3534704.95</td>\n    </tr>\n    <tr>\n      <th>2023-04-30</th>\n      <td>3649738.0</td>\n      <td>3648510.50</td>\n    </tr>\n    <tr>\n      <th>2023-05-31</th>\n      <td>3746806.0</td>\n      <td>3760828.90</td>\n    </tr>\n    <tr>\n      <th>2023-06-30</th>\n      <td>4986255.0</td>\n      <td>4986397.00</td>\n    </tr>\n    <tr>\n      <th>2023-07-31</th>\n      <td>3586468.0</td>\n      <td>3740236.50</td>\n    </tr>\n    <tr>\n      <th>2023-08-31</th>\n      <td>2071777.0</td>\n      <td>1930612.50</td>\n    </tr>\n  </tbody>\n</table>\n</div>"
     },
     "execution_count": 40,
     "metadata": {},
     "output_type": "execute_result"
    }
   ],
   "source": [
    "monthly_transactions = combined_data_frame.resample(rule=\"M\",on=\"Completion Time\").sum()\n",
    "monthly_transactions = monthly_transactions.drop(\"Balance\",axis=1)\n",
    "monthly_transactions"
   ]
  },
  {
   "cell_type": "code",
   "execution_count": 81,
   "metadata": {
    "collapsed": false,
    "tags": [],
    "ExecuteTime": {
     "end_time": "2023-09-25T13:34:51.855099300Z",
     "start_time": "2023-09-25T13:34:51.766849700Z"
    }
   },
   "outputs": [
    {
     "data": {
      "text/plain": "                Completion Time   Balance           EMA\nCompletion Time                                        \n2023-02-16           2023-02-16  21430.02  21430.020000\n2023-02-17           2023-02-17  95885.02  67964.395000\n2023-02-18           2023-02-18  16359.02  41635.122041\n2023-02-19           2023-02-19  14049.02  28957.685441\n2023-02-20           2023-02-20     73.52  16429.855184",
      "text/html": "<div>\n<style scoped>\n    .dataframe tbody tr th:only-of-type {\n        vertical-align: middle;\n    }\n\n    .dataframe tbody tr th {\n        vertical-align: top;\n    }\n\n    .dataframe thead th {\n        text-align: right;\n    }\n</style>\n<table border=\"1\" class=\"dataframe\">\n  <thead>\n    <tr style=\"text-align: right;\">\n      <th></th>\n      <th>Completion Time</th>\n      <th>Balance</th>\n      <th>EMA</th>\n    </tr>\n    <tr>\n      <th>Completion Time</th>\n      <th></th>\n      <th></th>\n      <th></th>\n    </tr>\n  </thead>\n  <tbody>\n    <tr>\n      <th>2023-02-16</th>\n      <td>2023-02-16</td>\n      <td>21430.02</td>\n      <td>21430.020000</td>\n    </tr>\n    <tr>\n      <th>2023-02-17</th>\n      <td>2023-02-17</td>\n      <td>95885.02</td>\n      <td>67964.395000</td>\n    </tr>\n    <tr>\n      <th>2023-02-18</th>\n      <td>2023-02-18</td>\n      <td>16359.02</td>\n      <td>41635.122041</td>\n    </tr>\n    <tr>\n      <th>2023-02-19</th>\n      <td>2023-02-19</td>\n      <td>14049.02</td>\n      <td>28957.685441</td>\n    </tr>\n    <tr>\n      <th>2023-02-20</th>\n      <td>2023-02-20</td>\n      <td>73.52</td>\n      <td>16429.855184</td>\n    </tr>\n  </tbody>\n</table>\n</div>"
     },
     "execution_count": 81,
     "metadata": {},
     "output_type": "execute_result"
    }
   ],
   "source": [
    "#Smoothing using the Exponential Moving Average\n",
    "alpha = 2/(1+4)\n",
    "latest_running_balance[\"EMA\"] = latest_running_balance[\"Balance\"].ewm(alpha=alpha,adjust=True).mean()\n",
    "latest_running_balance.head()"
   ]
  },
  {
   "cell_type": "code",
   "execution_count": 82,
   "metadata": {
    "collapsed": false,
    "tags": [],
    "ExecuteTime": {
     "end_time": "2023-09-25T13:34:56.695830400Z",
     "start_time": "2023-09-25T13:34:56.656264100Z"
    }
   },
   "outputs": [],
   "source": [
    "# import hvplot.pandas\n",
    "# import plotly.express as px\n",
    "# import panel as pn\n",
    "# import datetime as dt\n",
    "# \n",
    "# if \"data\" not in pn.state.cache.keys():\n",
    "#     pn.state.cache[\"data\"] = latest_running_balance.copy()\n",
    "# else:\n",
    "#     latest_running_balance = pn.state.cache[\"data\"]\n",
    "#     \n",
    "# interactive_running_balance = latest_running_balance.interactive()\n",
    "# \n",
    "# start_date = latest_running_balance[\"Completion Time\"].min()\n",
    "# end_date = latest_running_balance['Completion Time'].max()\n",
    "# \n",
    "# initial_value = (start_date, end_date)\n",
    "# \n",
    "# month_slider = pn.widgets.DateRangeSlider(\n",
    "#     name = \"Month Slider\",\n",
    "#     start = start_date,\n",
    "#     end=end_date,\n",
    "#     value=initial_value\n",
    "#     \n",
    "#     )\n",
    "# \n",
    "# month_slider\n",
    "# \n",
    "# @pn.depends(month_slider.param.value)\n",
    "# def create_balance_plot(date_range):\n",
    "#     start_date, end_date = date_range\n",
    "#     filtered_data = latest_running_balance[\n",
    "#         (latest_running_balance['Completion Time'] >= start_date) &\n",
    "#         (latest_running_balance['Completion Time'] <= end_date)\n",
    "#     ] \n",
    "#      \n",
    "#     running_balance_graph = filtered_data.hvplot.line(\n",
    "#         x=\"Completion Time\",\n",
    "#         y=[\"Balance\", \"EMA\"],\n",
    "#         size=50\n",
    "#     ).opts(\n",
    "#         title=\"Running balance between {} and {}\".format(start_date, end_date),\n",
    "#         xlabel=\"Months\",\n",
    "#         ylabel=\"Amount in KES\"\n",
    "#     )\n",
    "#     \n",
    "#     return running_balance_graph\n",
    "# \n",
    "# dashboard = pn.Column(\n",
    "#     month_slider,\n",
    "#     create_balance_plot\n",
    "# )\n",
    "# dashboard\n",
    "\n",
    "#Creating a dashboard\n",
    "#Graph of expenditure\n",
    "#Graph of number of expenditure\n",
    "#Recurring transactions\n",
    "#Table of bank movements\n",
    "#Text of DTI, outstanding loans and possible "
   ]
  },
  {
   "cell_type": "code",
   "execution_count": 83,
   "metadata": {
    "ExecuteTime": {
     "end_time": "2023-09-25T13:34:57.796137Z",
     "start_time": "2023-09-25T13:34:57.343912100Z"
    }
   },
   "outputs": [
    {
     "data": {
      "text/plain": "<Figure size 640x480 with 1 Axes>",
      "image/png": "[encoded data removed]"
     },
     "execution_count": 83,
     "metadata": {},
     "output_type": "execute_result"
    },
    {
     "data": {
      "text/plain": "<Figure size 640x480 with 1 Axes>",
      "image/png": "[encoded data removed]"
     },
     "metadata": {},
     "output_type": "display_data"
    }
   ],
   "source": [
    "#Forecasting the bank balance using ARIMA\n",
    "#Checking the stationarity of the data using ACF plot and Augmented Dickey-Fuller Test\n",
    "from statsmodels.graphics.tsaplots import plot_acf\n",
    "\n",
    "plot_acf(\n",
    "    x=latest_running_balance[\"Balance\"],\n",
    "    alpha=0.05,\n",
    "    title=\"Autocorrelation in daily bank balance\")\n",
    "\n"
   ]
  },
  {
   "cell_type": "code",
   "execution_count": 116,
   "outputs": [
    {
     "name": "stdout",
     "output_type": "stream",
     "text": [
      "   Augmented Dickey-Fuller Results   \n",
      "=====================================\n",
      "Test Statistic                 -8.970\n",
      "P-value                         0.000\n",
      "Lags                                3\n",
      "-------------------------------------\n",
      "\n",
      "Trend: Constant\n",
      "Critical Values: -3.47 (1%), -2.88 (5%), -2.58 (10%)\n",
      "Null Hypothesis: The process contains a unit root.\n",
      "Alternative Hypothesis: The process is weakly stationary.\n"
     ]
    }
   ],
   "source": [
    "from arch.unitroot import ADF\n",
    "series = latest_running_balance[\"EMA\"].diff().dropna()\n",
    "adf = ADF(series)\n",
    "print(adf.summary().as_text())"
   ],
   "metadata": {
    "collapsed": false,
    "ExecuteTime": {
     "end_time": "2023-09-25T14:38:39.490292900Z",
     "start_time": "2023-09-25T14:38:39.411742100Z"
    }
   }
  },
  {
   "cell_type": "code",
   "execution_count": 117,
   "outputs": [
    {
     "data": {
      "text/plain": "[<matplotlib.lines.Line2D at 0x16c6d1cab90>]"
     },
     "execution_count": 117,
     "metadata": {},
     "output_type": "execute_result"
    },
    {
     "data": {
      "text/plain": "<Figure size 640x480 with 1 Axes>",
      "image/png": "[encoded data removed]"
     },
     "metadata": {},
     "output_type": "display_data"
    }
   ],
   "source": [
    "from matplotlib import pyplot\n",
    "pyplot.plot(series)"
   ],
   "metadata": {
    "collapsed": false,
    "ExecuteTime": {
     "end_time": "2023-09-25T14:38:42.820574500Z",
     "start_time": "2023-09-25T14:38:42.513555400Z"
    }
   }
  },
  {
   "cell_type": "code",
   "execution_count": 118,
   "outputs": [
    {
     "data": {
      "text/plain": "<Figure size 640x480 with 1 Axes>",
      "image/png": "[encoded data removed]"
     },
     "execution_count": 118,
     "metadata": {},
     "output_type": "execute_result"
    },
    {
     "data": {
      "text/plain": "<Figure size 640x480 with 1 Axes>",
      "image/png": "[encoded data removed]"
     },
     "metadata": {},
     "output_type": "display_data"
    }
   ],
   "source": [
    "plot_acf(\n",
    "    x=series,\n",
    "    alpha=0.05\n",
    ")"
   ],
   "metadata": {
    "collapsed": false,
    "ExecuteTime": {
     "end_time": "2023-09-25T14:38:46.119717800Z",
     "start_time": "2023-09-25T14:38:45.645426400Z"
    }
   }
  },
  {
   "cell_type": "code",
   "execution_count": 119,
   "outputs": [],
   "source": [
    "#!pip install pmdarima"
   ],
   "metadata": {
    "collapsed": false,
    "ExecuteTime": {
     "end_time": "2023-09-25T14:38:47.751115500Z",
     "start_time": "2023-09-25T14:38:47.705103600Z"
    }
   }
  },
  {
   "cell_type": "code",
   "execution_count": 120,
   "outputs": [
    {
     "name": "stdout",
     "output_type": "stream",
     "text": [
      "Performing stepwise search to minimize aic\n",
      " ARIMA(1,0,1)(0,0,0)[0] intercept   : AIC=inf, Time=0.19 sec\n",
      " ARIMA(0,0,0)(0,0,0)[0] intercept   : AIC=4082.121, Time=0.01 sec\n",
      " ARIMA(1,0,0)(0,0,0)[0] intercept   : AIC=4080.694, Time=0.02 sec\n",
      " ARIMA(0,0,1)(0,0,0)[0] intercept   : AIC=4077.467, Time=0.05 sec\n",
      " ARIMA(0,0,0)(0,0,0)[0]             : AIC=4080.140, Time=0.02 sec\n",
      " ARIMA(0,0,2)(0,0,0)[0] intercept   : AIC=inf, Time=0.29 sec\n",
      " ARIMA(1,0,2)(0,0,0)[0] intercept   : AIC=4054.530, Time=0.08 sec\n",
      " ARIMA(2,0,2)(0,0,0)[0] intercept   : AIC=inf, Time=0.53 sec\n",
      " ARIMA(1,0,3)(0,0,0)[0] intercept   : AIC=4057.344, Time=0.38 sec\n",
      " ARIMA(0,0,3)(0,0,0)[0] intercept   : AIC=4055.492, Time=0.06 sec\n",
      " ARIMA(2,0,1)(0,0,0)[0] intercept   : AIC=inf, Time=0.16 sec\n",
      " ARIMA(2,0,3)(0,0,0)[0] intercept   : AIC=inf, Time=0.43 sec\n",
      " ARIMA(1,0,2)(0,0,0)[0]             : AIC=inf, Time=0.19 sec\n",
      "\n",
      "Best model:  ARIMA(1,0,2)(0,0,0)[0] intercept\n",
      "Total fit time: 2.409 seconds\n"
     ]
    }
   ],
   "source": [
    "from  pmdarima import auto_arima\n",
    "\n",
    "arima_balance = auto_arima(\n",
    "    series,\n",
    "    start_p=1,\n",
    "    d=1,\n",
    "    start_q =1,\n",
    "    start_P=1,\n",
    "    D=1,\n",
    "    start_Q=1,\n",
    "    stepwise=True,\n",
    "    stationary=True,\n",
    "    seasonal=False,\n",
    "    trace=True\n",
    ")\n"
   ],
   "metadata": {
    "collapsed": false,
    "ExecuteTime": {
     "end_time": "2023-09-25T14:38:51.412801800Z",
     "start_time": "2023-09-25T14:38:48.980837500Z"
    }
   }
  },
  {
   "cell_type": "code",
   "execution_count": 132,
   "outputs": [
    {
     "name": "stdout",
     "output_type": "stream",
     "text": [
      "<class 'pandas.core.series.Series'>\n",
      "DatetimeIndex: 37 entries, 2023-07-11 to 2023-08-16\n",
      "Series name: EMA\n",
      "Non-Null Count  Dtype  \n",
      "--------------  -----  \n",
      "37 non-null     float64\n",
      "dtypes: float64(1)\n",
      "memory usage: 592.0 bytes\n"
     ]
    }
   ],
   "source": [
    "#Splitting the data to training and testing data\n",
    "ratio = 0.8\n",
    "df_rows = series.shape[0]\n",
    "train_size = int(df_rows * ratio)\n",
    "train = series[0:train_size]\n",
    "test = series[train_size:]\n",
    "test.info()"
   ],
   "metadata": {
    "collapsed": false,
    "ExecuteTime": {
     "end_time": "2023-09-25T14:50:51.673399700Z",
     "start_time": "2023-09-25T14:50:51.654831100Z"
    }
   }
  },
  {
   "cell_type": "code",
   "execution_count": 133,
   "outputs": [
    {
     "name": "stdout",
     "output_type": "stream",
     "text": [
      "2023-07-11    5965.534334\n",
      "2023-07-12    6323.757886\n",
      "2023-07-13    2317.668449\n",
      "2023-07-14     960.559238\n",
      "2023-07-15     500.822769\n",
      "2023-07-16     345.081714\n",
      "2023-07-17     292.322627\n",
      "2023-07-18     274.449875\n",
      "2023-07-19     268.395274\n",
      "2023-07-20     266.344207\n",
      "2023-07-21     265.649385\n",
      "2023-07-22     265.414005\n",
      "2023-07-23     265.334268\n",
      "2023-07-24     265.307256\n",
      "2023-07-25     265.298105\n",
      "2023-07-26     265.295005\n",
      "2023-07-27     265.293955\n",
      "2023-07-28     265.293600\n",
      "2023-07-29     265.293479\n",
      "2023-07-30     265.293438\n",
      "2023-07-31     265.293424\n",
      "2023-08-01     265.293420\n",
      "2023-08-02     265.293418\n",
      "2023-08-03     265.293418\n",
      "2023-08-04     265.293417\n",
      "2023-08-05     265.293417\n",
      "2023-08-06     265.293417\n",
      "2023-08-07     265.293417\n",
      "2023-08-08     265.293417\n",
      "2023-08-09     265.293417\n",
      "2023-08-10     265.293417\n",
      "2023-08-11     265.293417\n",
      "2023-08-12     265.293417\n",
      "2023-08-13     265.293417\n",
      "2023-08-14     265.293417\n",
      "2023-08-15     265.293417\n",
      "2023-08-16     265.293417\n",
      "Freq: D, dtype: float64\n"
     ]
    }
   ],
   "source": [
    "arima_balance.fit(train)\n",
    "future_predictions = arima_balance.predict(len(test))\n",
    "\n",
    "future_predictions_df = pd.DataFrame(\n",
    "    future_predictions,\n",
    "    index = test.index,\n",
    "    columns=['Predictions']\n",
    ") \n",
    "print(future_predictions)"
   ],
   "metadata": {
    "collapsed": false,
    "ExecuteTime": {
     "end_time": "2023-09-25T14:50:52.772106700Z",
     "start_time": "2023-09-25T14:50:52.571970100Z"
    }
   }
  },
  {
   "cell_type": "code",
   "execution_count": 134,
   "outputs": [
    {
     "data": {
      "text/html": "        <script type=\"text/javascript\">\n        window.PlotlyConfig = {MathJaxConfig: 'local'};\n        if (window.MathJax && window.MathJax.Hub && window.MathJax.Hub.Config) {window.MathJax.Hub.Config({SVG: {font: \"STIX-Web\"}});}\n        if (typeof require !== 'undefined') {\n        require.undef(\"plotly\");\n        requirejs.config({\n            paths: {\n                'plotly': ['https://cdn.plot.ly/plotly-2.12.1.min']\n            }\n        });\n        require(['plotly'], function(Plotly) {\n            window._Plotly = Plotly;\n        });\n        }\n        </script>\n        "
     },
     "metadata": {},
     "output_type": "display_data"
    },
    {
     "data": {
      "application/vnd.plotly.v1+json": {
       "data": [
        {
         "line": {
          "color": "rgba(255, 153, 51, 1.0)",
          "dash": "solid",
          "shape": "linear",
          "width": 1.3
         },
         "mode": "lines",
         "name": "EMA",
         "text": "",
         "x": [
          "2023-07-11",
          "2023-07-12",
          "2023-07-13",
          "2023-07-14",
          "2023-07-15",
          "2023-07-16",
          "2023-07-17",
          "2023-07-18",
          "2023-07-19",
          "2023-07-20",
          "2023-07-21",
          "2023-07-22",
          "2023-07-23",
          "2023-07-24",
          "2023-07-25",
          "2023-07-26",
          "2023-07-27",
          "2023-07-28",
          "2023-07-29",
          "2023-07-30",
          "2023-07-31",
          "2023-08-01",
          "2023-08-02",
          "2023-08-03",
          "2023-08-04",
          "2023-08-05",
          "2023-08-06",
          "2023-08-07",
          "2023-08-08",
          "2023-08-09",
          "2023-08-10",
          "2023-08-11",
          "2023-08-12",
          "2023-08-13",
          "2023-08-14",
          "2023-08-15",
          "2023-08-16"
         ],
         "y": [
          -6525.7280030444945,
          -4304.636801826697,
          -2599.5820810960176,
          -1334.949248657611,
          16022.230450805439,
          -7376.661729516743,
          -4395.197037710046,
          539.681777373974,
          -2873.790933575616,
          -1819.4745601453692,
          -1063.6847360872214,
          -535.4108416523329,
          -254.4465049913997,
          -164.2679029948398,
          999.6392582030966,
          863.1835549218581,
          -662.0898670468857,
          95261.1460797719,
          -37064.31235213689,
          -24005.787411282145,
          -14433.472446769283,
          14535.516531938436,
          -10944.290080836945,
          -10016.974048502167,
          -5881.784429101299,
          -3647.8706574607777,
          -2275.9223944764667,
          180.44656331412125,
          26561.067937988482,
          -12075.359237206922,
          -7169.615542324153,
          -4206.169325394492,
          -2670.3015952366936,
          -1565.7809571420162,
          -931.8685742852099,
          -597.9211445711258,
          56060.847313257356
         ],
         "type": "scatter"
        },
        {
         "line": {
          "color": "rgba(55, 128, 191, 1.0)",
          "dash": "solid",
          "shape": "linear",
          "width": 1.3
         },
         "mode": "lines",
         "name": "0",
         "text": "",
         "x": [
          "2023-07-11",
          "2023-07-12",
          "2023-07-13",
          "2023-07-14",
          "2023-07-15",
          "2023-07-16",
          "2023-07-17",
          "2023-07-18",
          "2023-07-19",
          "2023-07-20",
          "2023-07-21",
          "2023-07-22",
          "2023-07-23",
          "2023-07-24",
          "2023-07-25",
          "2023-07-26",
          "2023-07-27",
          "2023-07-28",
          "2023-07-29",
          "2023-07-30",
          "2023-07-31",
          "2023-08-01",
          "2023-08-02",
          "2023-08-03",
          "2023-08-04",
          "2023-08-05",
          "2023-08-06",
          "2023-08-07",
          "2023-08-08",
          "2023-08-09",
          "2023-08-10",
          "2023-08-11",
          "2023-08-12",
          "2023-08-13",
          "2023-08-14",
          "2023-08-15",
          "2023-08-16"
         ],
         "y": [
          5965.534333520549,
          6323.757886225665,
          2317.6684486257786,
          960.5592376864212,
          500.8227692165947,
          345.0817140845532,
          292.32262726602835,
          274.4498753473727,
          268.3952735639005,
          266.3442070620396,
          265.6493845211848,
          265.4140053353603,
          265.33426790909425,
          265.30725593212077,
          265.29810531196426,
          265.29500543336854,
          265.2939553135795,
          265.2935995733344,
          265.2934790622048,
          265.29343823766345,
          265.2934244078771,
          265.29341972287676,
          265.2934181357786,
          265.2934175981307,
          265.29341741599626,
          265.2934173542961,
          265.2934173333945,
          265.2934173263138,
          265.29341732391515,
          265.2934173231026,
          265.2934173228273,
          265.29341732273406,
          265.29341732270245,
          265.29341732269177,
          265.29341732268813,
          265.2934173226869,
          265.2934173226865
         ],
         "type": "scatter"
        }
       ],
       "layout": {
        "legend": {
         "bgcolor": "#F5F6F9",
         "font": {
          "color": "#4D5663"
         }
        },
        "paper_bgcolor": "#F5F6F9",
        "plot_bgcolor": "#F5F6F9",
        "template": {
         "data": {
          "barpolar": [
           {
            "marker": {
             "line": {
              "color": "#E5ECF6",
              "width": 0.5
             },
             "pattern": {
              "fillmode": "overlay",
              "size": 10,
              "solidity": 0.2
             }
            },
            "type": "barpolar"
           }
          ],
          "bar": [
           {
            "error_x": {
             "color": "#2a3f5f"
            },
            "error_y": {
             "color": "#2a3f5f"
            },
            "marker": {
             "line": {
              "color": "#E5ECF6",
              "width": 0.5
             },
             "pattern": {
              "fillmode": "overlay",
              "size": 10,
              "solidity": 0.2
             }
            },
            "type": "bar"
           }
          ],
          "carpet": [
           {
            "aaxis": {
             "endlinecolor": "#2a3f5f",
             "gridcolor": "white",
             "linecolor": "white",
             "minorgridcolor": "white",
             "startlinecolor": "#2a3f5f"
            },
            "baxis": {
             "endlinecolor": "#2a3f5f",
             "gridcolor": "white",
             "linecolor": "white",
             "minorgridcolor": "white",
             "startlinecolor": "#2a3f5f"
            },
            "type": "carpet"
           }
          ],
          "choropleth": [
           {
            "colorbar": {
             "outlinewidth": 0,
             "ticks": ""
            },
            "type": "choropleth"
           }
          ],
          "contourcarpet": [
           {
            "colorbar": {
             "outlinewidth": 0,
             "ticks": ""
            },
            "type": "contourcarpet"
           }
          ],
          "contour": [
           {
            "colorbar": {
             "outlinewidth": 0,
             "ticks": ""
            },
            "colorscale": [
             [
              0.0,
              "#0d0887"
             ],
             [
              0.1111111111111111,
              "#46039f"
             ],
             [
              0.2222222222222222,
              "#7201a8"
             ],
             [
              0.3333333333333333,
              "#9c179e"
             ],
             [
              0.4444444444444444,
              "#bd3786"
             ],
             [
              0.5555555555555556,
              "#d8576b"
             ],
             [
              0.6666666666666666,
              "#ed7953"
             ],
             [
              0.7777777777777778,
              "#fb9f3a"
             ],
             [
              0.8888888888888888,
              "#fdca26"
             ],
             [
              1.0,
              "#f0f921"
             ]
            ],
            "type": "contour"
           }
          ],
          "heatmapgl": [
           {
            "colorbar": {
             "outlinewidth": 0,
             "ticks": ""
            },
            "colorscale": [
             [
              0.0,
              "#0d0887"
             ],
             [
              0.1111111111111111,
              "#46039f"
             ],
             [
              0.2222222222222222,
              "#7201a8"
             ],
             [
              0.3333333333333333,
              "#9c179e"
             ],
             [
              0.4444444444444444,
              "#bd3786"
             ],
             [
              0.5555555555555556,
              "#d8576b"
             ],
             [
              0.6666666666666666,
              "#ed7953"
             ],
             [
              0.7777777777777778,
              "#fb9f3a"
             ],
             [
              0.8888888888888888,
              "#fdca26"
             ],
             [
              1.0,
              "#f0f921"
             ]
            ],
            "type": "heatmapgl"
           }
          ],
          "heatmap": [
           {
            "colorbar": {
             "outlinewidth": 0,
             "ticks": ""
            },
            "colorscale": [
             [
              0.0,
              "#0d0887"
             ],
             [
              0.1111111111111111,
              "#46039f"
             ],
             [
              0.2222222222222222,
              "#7201a8"
             ],
             [
              0.3333333333333333,
              "#9c179e"
             ],
             [
              0.4444444444444444,
              "#bd3786"
             ],
             [
              0.5555555555555556,
              "#d8576b"
             ],
             [
              0.6666666666666666,
              "#ed7953"
             ],
             [
              0.7777777777777778,
              "#fb9f3a"
             ],
             [
              0.8888888888888888,
              "#fdca26"
             ],
             [
              1.0,
              "#f0f921"
             ]
            ],
            "type": "heatmap"
           }
          ],
          "histogram2dcontour": [
           {
            "colorbar": {
             "outlinewidth": 0,
             "ticks": ""
            },
            "colorscale": [
             [
              0.0,
              "#0d0887"
             ],
             [
              0.1111111111111111,
              "#46039f"
             ],
             [
              0.2222222222222222,
              "#7201a8"
             ],
             [
              0.3333333333333333,
              "#9c179e"
             ],
             [
              0.4444444444444444,
              "#bd3786"
             ],
             [
              0.5555555555555556,
              "#d8576b"
             ],
             [
              0.6666666666666666,
              "#ed7953"
             ],
             [
              0.7777777777777778,
              "#fb9f3a"
             ],
             [
              0.8888888888888888,
              "#fdca26"
             ],
             [
              1.0,
              "#f0f921"
             ]
            ],
            "type": "histogram2dcontour"
           }
          ],
          "histogram2d": [
           {
            "colorbar": {
             "outlinewidth": 0,
             "ticks": ""
            },
            "colorscale": [
             [
              0.0,
              "#0d0887"
             ],
             [
              0.1111111111111111,
              "#46039f"
             ],
             [
              0.2222222222222222,
              "#7201a8"
             ],
             [
              0.3333333333333333,
              "#9c179e"
             ],
             [
              0.4444444444444444,
              "#bd3786"
             ],
             [
              0.5555555555555556,
              "#d8576b"
             ],
             [
              0.6666666666666666,
              "#ed7953"
             ],
             [
              0.7777777777777778,
              "#fb9f3a"
             ],
             [
              0.8888888888888888,
              "#fdca26"
             ],
             [
              1.0,
              "#f0f921"
             ]
            ],
            "type": "histogram2d"
           }
          ],
          "histogram": [
           {
            "marker": {
             "pattern": {
              "fillmode": "overlay",
              "size": 10,
              "solidity": 0.2
             }
            },
            "type": "histogram"
           }
          ],
          "mesh3d": [
           {
            "colorbar": {
             "outlinewidth": 0,
             "ticks": ""
            },
            "type": "mesh3d"
           }
          ],
          "parcoords": [
           {
            "line": {
             "colorbar": {
              "outlinewidth": 0,
              "ticks": ""
             }
            },
            "type": "parcoords"
           }
          ],
          "pie": [
           {
            "automargin": true,
            "type": "pie"
           }
          ],
          "scatter3d": [
           {
            "line": {
             "colorbar": {
              "outlinewidth": 0,
              "ticks": ""
             }
            },
            "marker": {
             "colorbar": {
              "outlinewidth": 0,
              "ticks": ""
             }
            },
            "type": "scatter3d"
           }
          ],
          "scattercarpet": [
           {
            "marker": {
             "colorbar": {
              "outlinewidth": 0,
              "ticks": ""
             }
            },
            "type": "scattercarpet"
           }
          ],
          "scattergeo": [
           {
            "marker": {
             "colorbar": {
              "outlinewidth": 0,
              "ticks": ""
             }
            },
            "type": "scattergeo"
           }
          ],
          "scattergl": [
           {
            "marker": {
             "colorbar": {
              "outlinewidth": 0,
              "ticks": ""
             }
            },
            "type": "scattergl"
           }
          ],
          "scattermapbox": [
           {
            "marker": {
             "colorbar": {
              "outlinewidth": 0,
              "ticks": ""
             }
            },
            "type": "scattermapbox"
           }
          ],
          "scatterpolargl": [
           {
            "marker": {
             "colorbar": {
              "outlinewidth": 0,
              "ticks": ""
             }
            },
            "type": "scatterpolargl"
           }
          ],
          "scatterpolar": [
           {
            "marker": {
             "colorbar": {
              "outlinewidth": 0,
              "ticks": ""
             }
            },
            "type": "scatterpolar"
           }
          ],
          "scatter": [
           {
            "fillpattern": {
             "fillmode": "overlay",
             "size": 10,
             "solidity": 0.2
            },
            "type": "scatter"
           }
          ],
          "scatterternary": [
           {
            "marker": {
             "colorbar": {
              "outlinewidth": 0,
              "ticks": ""
             }
            },
            "type": "scatterternary"
           }
          ],
          "surface": [
           {
            "colorbar": {
             "outlinewidth": 0,
             "ticks": ""
            },
            "colorscale": [
             [
              0.0,
              "#0d0887"
             ],
             [
              0.1111111111111111,
              "#46039f"
             ],
             [
              0.2222222222222222,
              "#7201a8"
             ],
             [
              0.3333333333333333,
              "#9c179e"
             ],
             [
              0.4444444444444444,
              "#bd3786"
             ],
             [
              0.5555555555555556,
              "#d8576b"
             ],
             [
              0.6666666666666666,
              "#ed7953"
             ],
             [
              0.7777777777777778,
              "#fb9f3a"
             ],
             [
              0.8888888888888888,
              "#fdca26"
             ],
             [
              1.0,
              "#f0f921"
             ]
            ],
            "type": "surface"
           }
          ],
          "table": [
           {
            "cells": {
             "fill": {
              "color": "#EBF0F8"
             },
             "line": {
              "color": "white"
             }
            },
            "header": {
             "fill": {
              "color": "#C8D4E3"
             },
             "line": {
              "color": "white"
             }
            },
            "type": "table"
           }
          ]
         },
         "layout": {
          "annotationdefaults": {
           "arrowcolor": "#2a3f5f",
           "arrowhead": 0,
           "arrowwidth": 1
          },
          "autotypenumbers": "strict",
          "coloraxis": {
           "colorbar": {
            "outlinewidth": 0,
            "ticks": ""
           }
          },
          "colorscale": {
           "diverging": [
            [
             0,
             "#8e0152"
            ],
            [
             0.1,
             "#c51b7d"
            ],
            [
             0.2,
             "#de77ae"
            ],
            [
             0.3,
             "#f1b6da"
            ],
            [
             0.4,
             "#fde0ef"
            ],
            [
             0.5,
             "#f7f7f7"
            ],
            [
             0.6,
             "#e6f5d0"
            ],
            [
             0.7,
             "#b8e186"
            ],
            [
             0.8,
             "#7fbc41"
            ],
            [
             0.9,
             "#4d9221"
            ],
            [
             1,
             "#276419"
            ]
           ],
           "sequential": [
            [
             0.0,
             "#0d0887"
            ],
            [
             0.1111111111111111,
             "#46039f"
            ],
            [
             0.2222222222222222,
             "#7201a8"
            ],
            [
             0.3333333333333333,
             "#9c179e"
            ],
            [
             0.4444444444444444,
             "#bd3786"
            ],
            [
             0.5555555555555556,
             "#d8576b"
            ],
            [
             0.6666666666666666,
             "#ed7953"
            ],
            [
             0.7777777777777778,
             "#fb9f3a"
            ],
            [
             0.8888888888888888,
             "#fdca26"
            ],
            [
             1.0,
             "#f0f921"
            ]
           ],
           "sequentialminus": [
            [
             0.0,
             "#0d0887"
            ],
            [
             0.1111111111111111,
             "#46039f"
            ],
            [
             0.2222222222222222,
             "#7201a8"
            ],
            [
             0.3333333333333333,
             "#9c179e"
            ],
            [
             0.4444444444444444,
             "#bd3786"
            ],
            [
             0.5555555555555556,
             "#d8576b"
            ],
            [
             0.6666666666666666,
             "#ed7953"
            ],
            [
             0.7777777777777778,
             "#fb9f3a"
            ],
            [
             0.8888888888888888,
             "#fdca26"
            ],
            [
             1.0,
             "#f0f921"
            ]
           ]
          },
          "colorway": [
           "#636efa",
           "#EF553B",
           "#00cc96",
           "#ab63fa",
           "#FFA15A",
           "#19d3f3",
           "#FF6692",
           "#B6E880",
           "#FF97FF",
           "#FECB52"
          ],
          "font": {
           "color": "#2a3f5f"
          },
          "geo": {
           "bgcolor": "white",
           "lakecolor": "white",
           "landcolor": "#E5ECF6",
           "showlakes": true,
           "showland": true,
           "subunitcolor": "white"
          },
          "hoverlabel": {
           "align": "left"
          },
          "hovermode": "closest",
          "mapbox": {
           "style": "light"
          },
          "paper_bgcolor": "white",
          "plot_bgcolor": "#E5ECF6",
          "polar": {
           "angularaxis": {
            "gridcolor": "white",
            "linecolor": "white",
            "ticks": ""
           },
           "bgcolor": "#E5ECF6",
           "radialaxis": {
            "gridcolor": "white",
            "linecolor": "white",
            "ticks": ""
           }
          },
          "scene": {
           "xaxis": {
            "backgroundcolor": "#E5ECF6",
            "gridcolor": "white",
            "gridwidth": 2,
            "linecolor": "white",
            "showbackground": true,
            "ticks": "",
            "zerolinecolor": "white"
           },
           "yaxis": {
            "backgroundcolor": "#E5ECF6",
            "gridcolor": "white",
            "gridwidth": 2,
            "linecolor": "white",
            "showbackground": true,
            "ticks": "",
            "zerolinecolor": "white"
           },
           "zaxis": {
            "backgroundcolor": "#E5ECF6",
            "gridcolor": "white",
            "gridwidth": 2,
            "linecolor": "white",
            "showbackground": true,
            "ticks": "",
            "zerolinecolor": "white"
           }
          },
          "shapedefaults": {
           "line": {
            "color": "#2a3f5f"
           }
          },
          "ternary": {
           "aaxis": {
            "gridcolor": "white",
            "linecolor": "white",
            "ticks": ""
           },
           "baxis": {
            "gridcolor": "white",
            "linecolor": "white",
            "ticks": ""
           },
           "bgcolor": "#E5ECF6",
           "caxis": {
            "gridcolor": "white",
            "linecolor": "white",
            "ticks": ""
           }
          },
          "title": {
           "x": 0.05
          },
          "xaxis": {
           "automargin": true,
           "gridcolor": "white",
           "linecolor": "white",
           "ticks": "",
           "title": {
            "standoff": 15
           },
           "zerolinecolor": "white",
           "zerolinewidth": 2
          },
          "yaxis": {
           "automargin": true,
           "gridcolor": "white",
           "linecolor": "white",
           "ticks": "",
           "title": {
            "standoff": 15
           },
           "zerolinecolor": "white",
           "zerolinewidth": 2
          }
         }
        },
        "title": {
         "font": {
          "color": "#4D5663"
         }
        },
        "xaxis": {
         "gridcolor": "#E1E5ED",
         "showgrid": true,
         "tickfont": {
          "color": "#4D5663"
         },
         "title": {
          "font": {
           "color": "#4D5663"
          },
          "text": ""
         },
         "zerolinecolor": "#E1E5ED"
        },
        "yaxis": {
         "gridcolor": "#E1E5ED",
         "showgrid": true,
         "tickfont": {
          "color": "#4D5663"
         },
         "title": {
          "font": {
           "color": "#4D5663"
          },
          "text": ""
         },
         "zerolinecolor": "#E1E5ED"
        }
       },
       "config": {
        "showLink": true,
        "linkText": "Export to plot.ly",
        "plotlyServerURL": "https://plot.ly"
       }
      },
      "text/html": "<div>                            <div id=\"c415eded-6541-4031-9139-4ec04b481075\" class=\"plotly-graph-div\" style=\"height:525px; width:100%;\"></div>            <script type=\"text/javascript\">                require([\"plotly\"], function(Plotly) {                    window.PLOTLYENV=window.PLOTLYENV || {};\n                    window.PLOTLYENV.BASE_URL='https://plot.ly';                                    if (document.getElementById(\"c415eded-6541-4031-9139-4ec04b481075\")) {                    Plotly.newPlot(                        \"c415eded-6541-4031-9139-4ec04b481075\",                        [{\"line\":{\"color\":\"rgba(255, 153, 51, 1.0)\",\"dash\":\"solid\",\"shape\":\"linear\",\"width\":1.3},\"mode\":\"lines\",\"name\":\"EMA\",\"text\":\"\",\"x\":[\"2023-07-11\",\"2023-07-12\",\"2023-07-13\",\"2023-07-14\",\"2023-07-15\",\"2023-07-16\",\"2023-07-17\",\"2023-07-18\",\"2023-07-19\",\"2023-07-20\",\"2023-07-21\",\"2023-07-22\",\"2023-07-23\",\"2023-07-24\",\"2023-07-25\",\"2023-07-26\",\"2023-07-27\",\"2023-07-28\",\"2023-07-29\",\"2023-07-30\",\"2023-07-31\",\"2023-08-01\",\"2023-08-02\",\"2023-08-03\",\"2023-08-04\",\"2023-08-05\",\"2023-08-06\",\"2023-08-07\",\"2023-08-08\",\"2023-08-09\",\"2023-08-10\",\"2023-08-11\",\"2023-08-12\",\"2023-08-13\",\"2023-08-14\",\"2023-08-15\",\"2023-08-16\"],\"y\":[-6525.7280030444945,-4304.636801826697,-2599.5820810960176,-1334.949248657611,16022.230450805439,-7376.661729516743,-4395.197037710046,539.681777373974,-2873.790933575616,-1819.4745601453692,-1063.6847360872214,-535.4108416523329,-254.4465049913997,-164.2679029948398,999.6392582030966,863.1835549218581,-662.0898670468857,95261.1460797719,-37064.31235213689,-24005.787411282145,-14433.472446769283,14535.516531938436,-10944.290080836945,-10016.974048502167,-5881.784429101299,-3647.8706574607777,-2275.9223944764667,180.44656331412125,26561.067937988482,-12075.359237206922,-7169.615542324153,-4206.169325394492,-2670.3015952366936,-1565.7809571420162,-931.8685742852099,-597.9211445711258,56060.847313257356],\"type\":\"scatter\"},{\"line\":{\"color\":\"rgba(55, 128, 191, 1.0)\",\"dash\":\"solid\",\"shape\":\"linear\",\"width\":1.3},\"mode\":\"lines\",\"name\":\"0\",\"text\":\"\",\"x\":[\"2023-07-11\",\"2023-07-12\",\"2023-07-13\",\"2023-07-14\",\"2023-07-15\",\"2023-07-16\",\"2023-07-17\",\"2023-07-18\",\"2023-07-19\",\"2023-07-20\",\"2023-07-21\",\"2023-07-22\",\"2023-07-23\",\"2023-07-24\",\"2023-07-25\",\"2023-07-26\",\"2023-07-27\",\"2023-07-28\",\"2023-07-29\",\"2023-07-30\",\"2023-07-31\",\"2023-08-01\",\"2023-08-02\",\"2023-08-03\",\"2023-08-04\",\"2023-08-05\",\"2023-08-06\",\"2023-08-07\",\"2023-08-08\",\"2023-08-09\",\"2023-08-10\",\"2023-08-11\",\"2023-08-12\",\"2023-08-13\",\"2023-08-14\",\"2023-08-15\",\"2023-08-16\"],\"y\":[5965.534333520549,6323.757886225665,2317.6684486257786,960.5592376864212,500.8227692165947,345.0817140845532,292.32262726602835,274.4498753473727,268.3952735639005,266.3442070620396,265.6493845211848,265.4140053353603,265.33426790909425,265.30725593212077,265.29810531196426,265.29500543336854,265.2939553135795,265.2935995733344,265.2934790622048,265.29343823766345,265.2934244078771,265.29341972287676,265.2934181357786,265.2934175981307,265.29341741599626,265.2934173542961,265.2934173333945,265.2934173263138,265.29341732391515,265.2934173231026,265.2934173228273,265.29341732273406,265.29341732270245,265.29341732269177,265.29341732268813,265.2934173226869,265.2934173226865],\"type\":\"scatter\"}],                        {\"legend\":{\"bgcolor\":\"#F5F6F9\",\"font\":{\"color\":\"#4D5663\"}},\"paper_bgcolor\":\"#F5F6F9\",\"plot_bgcolor\":\"#F5F6F9\",\"template\":{\"data\":{\"barpolar\":[{\"marker\":{\"line\":{\"color\":\"#E5ECF6\",\"width\":0.5},\"pattern\":{\"fillmode\":\"overlay\",\"size\":10,\"solidity\":0.2}},\"type\":\"barpolar\"}],\"bar\":[{\"error_x\":{\"color\":\"#2a3f5f\"},\"error_y\":{\"color\":\"#2a3f5f\"},\"marker\":{\"line\":{\"color\":\"#E5ECF6\",\"width\":0.5},\"pattern\":{\"fillmode\":\"overlay\",\"size\":10,\"solidity\":0.2}},\"type\":\"bar\"}],\"carpet\":[{\"aaxis\":{\"endlinecolor\":\"#2a3f5f\",\"gridcolor\":\"white\",\"linecolor\":\"white\",\"minorgridcolor\":\"white\",\"startlinecolor\":\"#2a3f5f\"},\"baxis\":{\"endlinecolor\":\"#2a3f5f\",\"gridcolor\":\"white\",\"linecolor\":\"white\",\"minorgridcolor\":\"white\",\"startlinecolor\":\"#2a3f5f\"},\"type\":\"carpet\"}],\"choropleth\":[{\"colorbar\":{\"outlinewidth\":0,\"ticks\":\"\"},\"type\":\"choropleth\"}],\"contourcarpet\":[{\"colorbar\":{\"outlinewidth\":0,\"ticks\":\"\"},\"type\":\"contourcarpet\"}],\"contour\":[{\"colorbar\":{\"outlinewidth\":0,\"ticks\":\"\"},\"colorscale\":[[0.0,\"#0d0887\"],[0.1111111111111111,\"#46039f\"],[0.2222222222222222,\"#7201a8\"],[0.3333333333333333,\"#9c179e\"],[0.4444444444444444,\"#bd3786\"],[0.5555555555555556,\"#d8576b\"],[0.6666666666666666,\"#ed7953\"],[0.7777777777777778,\"#fb9f3a\"],[0.8888888888888888,\"#fdca26\"],[1.0,\"#f0f921\"]],\"type\":\"contour\"}],\"heatmapgl\":[{\"colorbar\":{\"outlinewidth\":0,\"ticks\":\"\"},\"colorscale\":[[0.0,\"#0d0887\"],[0.1111111111111111,\"#46039f\"],[0.2222222222222222,\"#7201a8\"],[0.3333333333333333,\"#9c179e\"],[0.4444444444444444,\"#bd3786\"],[0.5555555555555556,\"#d8576b\"],[0.6666666666666666,\"#ed7953\"],[0.7777777777777778,\"#fb9f3a\"],[0.8888888888888888,\"#fdca26\"],[1.0,\"#f0f921\"]],\"type\":\"heatmapgl\"}],\"heatmap\":[{\"colorbar\":{\"outlinewidth\":0,\"ticks\":\"\"},\"colorscale\":[[0.0,\"#0d0887\"],[0.1111111111111111,\"#46039f\"],[0.2222222222222222,\"#7201a8\"],[0.3333333333333333,\"#9c179e\"],[0.4444444444444444,\"#bd3786\"],[0.5555555555555556,\"#d8576b\"],[0.6666666666666666,\"#ed7953\"],[0.7777777777777778,\"#fb9f3a\"],[0.8888888888888888,\"#fdca26\"],[1.0,\"#f0f921\"]],\"type\":\"heatmap\"}],\"histogram2dcontour\":[{\"colorbar\":{\"outlinewidth\":0,\"ticks\":\"\"},\"colorscale\":[[0.0,\"#0d0887\"],[0.1111111111111111,\"#46039f\"],[0.2222222222222222,\"#7201a8\"],[0.3333333333333333,\"#9c179e\"],[0.4444444444444444,\"#bd3786\"],[0.5555555555555556,\"#d8576b\"],[0.6666666666666666,\"#ed7953\"],[0.7777777777777778,\"#fb9f3a\"],[0.8888888888888888,\"#fdca26\"],[1.0,\"#f0f921\"]],\"type\":\"histogram2dcontour\"}],\"histogram2d\":[{\"colorbar\":{\"outlinewidth\":0,\"ticks\":\"\"},\"colorscale\":[[0.0,\"#0d0887\"],[0.1111111111111111,\"#46039f\"],[0.2222222222222222,\"#7201a8\"],[0.3333333333333333,\"#9c179e\"],[0.4444444444444444,\"#bd3786\"],[0.5555555555555556,\"#d8576b\"],[0.6666666666666666,\"#ed7953\"],[0.7777777777777778,\"#fb9f3a\"],[0.8888888888888888,\"#fdca26\"],[1.0,\"#f0f921\"]],\"type\":\"histogram2d\"}],\"histogram\":[{\"marker\":{\"pattern\":{\"fillmode\":\"overlay\",\"size\":10,\"solidity\":0.2}},\"type\":\"histogram\"}],\"mesh3d\":[{\"colorbar\":{\"outlinewidth\":0,\"ticks\":\"\"},\"type\":\"mesh3d\"}],\"parcoords\":[{\"line\":{\"colorbar\":{\"outlinewidth\":0,\"ticks\":\"\"}},\"type\":\"parcoords\"}],\"pie\":[{\"automargin\":true,\"type\":\"pie\"}],\"scatter3d\":[{\"line\":{\"colorbar\":{\"outlinewidth\":0,\"ticks\":\"\"}},\"marker\":{\"colorbar\":{\"outlinewidth\":0,\"ticks\":\"\"}},\"type\":\"scatter3d\"}],\"scattercarpet\":[{\"marker\":{\"colorbar\":{\"outlinewidth\":0,\"ticks\":\"\"}},\"type\":\"scattercarpet\"}],\"scattergeo\":[{\"marker\":{\"colorbar\":{\"outlinewidth\":0,\"ticks\":\"\"}},\"type\":\"scattergeo\"}],\"scattergl\":[{\"marker\":{\"colorbar\":{\"outlinewidth\":0,\"ticks\":\"\"}},\"type\":\"scattergl\"}],\"scattermapbox\":[{\"marker\":{\"colorbar\":{\"outlinewidth\":0,\"ticks\":\"\"}},\"type\":\"scattermapbox\"}],\"scatterpolargl\":[{\"marker\":{\"colorbar\":{\"outlinewidth\":0,\"ticks\":\"\"}},\"type\":\"scatterpolargl\"}],\"scatterpolar\":[{\"marker\":{\"colorbar\":{\"outlinewidth\":0,\"ticks\":\"\"}},\"type\":\"scatterpolar\"}],\"scatter\":[{\"fillpattern\":{\"fillmode\":\"overlay\",\"size\":10,\"solidity\":0.2},\"type\":\"scatter\"}],\"scatterternary\":[{\"marker\":{\"colorbar\":{\"outlinewidth\":0,\"ticks\":\"\"}},\"type\":\"scatterternary\"}],\"surface\":[{\"colorbar\":{\"outlinewidth\":0,\"ticks\":\"\"},\"colorscale\":[[0.0,\"#0d0887\"],[0.1111111111111111,\"#46039f\"],[0.2222222222222222,\"#7201a8\"],[0.3333333333333333,\"#9c179e\"],[0.4444444444444444,\"#bd3786\"],[0.5555555555555556,\"#d8576b\"],[0.6666666666666666,\"#ed7953\"],[0.7777777777777778,\"#fb9f3a\"],[0.8888888888888888,\"#fdca26\"],[1.0,\"#f0f921\"]],\"type\":\"surface\"}],\"table\":[{\"cells\":{\"fill\":{\"color\":\"#EBF0F8\"},\"line\":{\"color\":\"white\"}},\"header\":{\"fill\":{\"color\":\"#C8D4E3\"},\"line\":{\"color\":\"white\"}},\"type\":\"table\"}]},\"layout\":{\"annotationdefaults\":{\"arrowcolor\":\"#2a3f5f\",\"arrowhead\":0,\"arrowwidth\":1},\"autotypenumbers\":\"strict\",\"coloraxis\":{\"colorbar\":{\"outlinewidth\":0,\"ticks\":\"\"}},\"colorscale\":{\"diverging\":[[0,\"#8e0152\"],[0.1,\"#c51b7d\"],[0.2,\"#de77ae\"],[0.3,\"#f1b6da\"],[0.4,\"#fde0ef\"],[0.5,\"#f7f7f7\"],[0.6,\"#e6f5d0\"],[0.7,\"#b8e186\"],[0.8,\"#7fbc41\"],[0.9,\"#4d9221\"],[1,\"#276419\"]],\"sequential\":[[0.0,\"#0d0887\"],[0.1111111111111111,\"#46039f\"],[0.2222222222222222,\"#7201a8\"],[0.3333333333333333,\"#9c179e\"],[0.4444444444444444,\"#bd3786\"],[0.5555555555555556,\"#d8576b\"],[0.6666666666666666,\"#ed7953\"],[0.7777777777777778,\"#fb9f3a\"],[0.8888888888888888,\"#fdca26\"],[1.0,\"#f0f921\"]],\"sequentialminus\":[[0.0,\"#0d0887\"],[0.1111111111111111,\"#46039f\"],[0.2222222222222222,\"#7201a8\"],[0.3333333333333333,\"#9c179e\"],[0.4444444444444444,\"#bd3786\"],[0.5555555555555556,\"#d8576b\"],[0.6666666666666666,\"#ed7953\"],[0.7777777777777778,\"#fb9f3a\"],[0.8888888888888888,\"#fdca26\"],[1.0,\"#f0f921\"]]},\"colorway\":[\"#636efa\",\"#EF553B\",\"#00cc96\",\"#ab63fa\",\"#FFA15A\",\"#19d3f3\",\"#FF6692\",\"#B6E880\",\"#FF97FF\",\"#FECB52\"],\"font\":{\"color\":\"#2a3f5f\"},\"geo\":{\"bgcolor\":\"white\",\"lakecolor\":\"white\",\"landcolor\":\"#E5ECF6\",\"showlakes\":true,\"showland\":true,\"subunitcolor\":\"white\"},\"hoverlabel\":{\"align\":\"left\"},\"hovermode\":\"closest\",\"mapbox\":{\"style\":\"light\"},\"paper_bgcolor\":\"white\",\"plot_bgcolor\":\"#E5ECF6\",\"polar\":{\"angularaxis\":{\"gridcolor\":\"white\",\"linecolor\":\"white\",\"ticks\":\"\"},\"bgcolor\":\"#E5ECF6\",\"radialaxis\":{\"gridcolor\":\"white\",\"linecolor\":\"white\",\"ticks\":\"\"}},\"scene\":{\"xaxis\":{\"backgroundcolor\":\"#E5ECF6\",\"gridcolor\":\"white\",\"gridwidth\":2,\"linecolor\":\"white\",\"showbackground\":true,\"ticks\":\"\",\"zerolinecolor\":\"white\"},\"yaxis\":{\"backgroundcolor\":\"#E5ECF6\",\"gridcolor\":\"white\",\"gridwidth\":2,\"linecolor\":\"white\",\"showbackground\":true,\"ticks\":\"\",\"zerolinecolor\":\"white\"},\"zaxis\":{\"backgroundcolor\":\"#E5ECF6\",\"gridcolor\":\"white\",\"gridwidth\":2,\"linecolor\":\"white\",\"showbackground\":true,\"ticks\":\"\",\"zerolinecolor\":\"white\"}},\"shapedefaults\":{\"line\":{\"color\":\"#2a3f5f\"}},\"ternary\":{\"aaxis\":{\"gridcolor\":\"white\",\"linecolor\":\"white\",\"ticks\":\"\"},\"baxis\":{\"gridcolor\":\"white\",\"linecolor\":\"white\",\"ticks\":\"\"},\"bgcolor\":\"#E5ECF6\",\"caxis\":{\"gridcolor\":\"white\",\"linecolor\":\"white\",\"ticks\":\"\"}},\"title\":{\"x\":0.05},\"xaxis\":{\"automargin\":true,\"gridcolor\":\"white\",\"linecolor\":\"white\",\"ticks\":\"\",\"title\":{\"standoff\":15},\"zerolinecolor\":\"white\",\"zerolinewidth\":2},\"yaxis\":{\"automargin\":true,\"gridcolor\":\"white\",\"linecolor\":\"white\",\"ticks\":\"\",\"title\":{\"standoff\":15},\"zerolinecolor\":\"white\",\"zerolinewidth\":2}}},\"title\":{\"font\":{\"color\":\"#4D5663\"}},\"xaxis\":{\"gridcolor\":\"#E1E5ED\",\"showgrid\":true,\"tickfont\":{\"color\":\"#4D5663\"},\"title\":{\"font\":{\"color\":\"#4D5663\"},\"text\":\"\"},\"zerolinecolor\":\"#E1E5ED\"},\"yaxis\":{\"gridcolor\":\"#E1E5ED\",\"showgrid\":true,\"tickfont\":{\"color\":\"#4D5663\"},\"title\":{\"font\":{\"color\":\"#4D5663\"},\"text\":\"\"},\"zerolinecolor\":\"#E1E5ED\"}},                        {\"showLink\": true, \"linkText\": \"Export to plot.ly\", \"plotlyServerURL\": \"https://plot.ly\", \"responsive\": true}                    ).then(function(){\n                            \nvar gd = document.getElementById('c415eded-6541-4031-9139-4ec04b481075');\nvar x = new MutationObserver(function (mutations, observer) {{\n        var display = window.getComputedStyle(gd).display;\n        if (!display || display === 'none') {{\n            console.log([gd, 'removed!']);\n            Plotly.purge(gd);\n            observer.disconnect();\n        }}\n}});\n\n// Listen for the removal of the full notebook cells\nvar notebookContainer = gd.closest('#notebook-container');\nif (notebookContainer) {{\n    x.observe(notebookContainer, {childList: true});\n}}\n\n// Listen for the clearing of the current output cell\nvar outputEl = gd.closest('.output');\nif (outputEl) {{\n    x.observe(outputEl, {childList: true});\n}}\n\n                        })                };                });            </script>        </div>"
     },
     "metadata": {},
     "output_type": "display_data"
    }
   ],
   "source": [
    "import cufflinks as cf\n",
    "cf.go_offline()\n",
    "cf.set_config_file(offline=False, world_readable=True)\n",
    "\n",
    "pd.concat([test,future_predictions],axis=1).iplot()"
   ],
   "metadata": {
    "collapsed": false,
    "ExecuteTime": {
     "end_time": "2023-09-25T14:50:53.729342700Z",
     "start_time": "2023-09-25T14:50:53.617929700Z"
    }
   }
  },
  {
   "cell_type": "code",
   "execution_count": 135,
   "outputs": [
    {
     "name": "stdout",
     "output_type": "stream",
     "text": [
      "The mean squared error is 443341288.0546978\n"
     ]
    }
   ],
   "source": [
    "#Calculating the MSE\n",
    "\n",
    "from sklearn.metrics import mean_squared_error\n",
    "\n",
    "mse = mean_squared_error(test,future_predictions)\n",
    "print(f\"The mean squared error is\",mse)"
   ],
   "metadata": {
    "collapsed": false,
    "ExecuteTime": {
     "end_time": "2023-09-25T16:37:31.560445400Z",
     "start_time": "2023-09-25T16:37:31.552530700Z"
    }
   }
  },
  {
   "cell_type": "markdown",
   "source": [
    "**ARIMA** is not an appropriate model for predicting bank balances."
   ],
   "metadata": {
    "collapsed": false
   }
  },
  {
   "cell_type": "code",
   "execution_count": null,
   "outputs": [],
   "source": [],
   "metadata": {
    "collapsed": false
   }
  }
 ],
 "metadata": {
  "kernelspec": {
   "display_name": "Python 3 (ipykernel)",
   "language": "python",
   "name": "python3"
  },
  "language_info": {
   "codemirror_mode": {
    "name": "ipython",
    "version": 3
   },
   "file_extension": ".py",
   "mimetype": "text/x-python",
   "name": "python",
   "nbconvert_exporter": "python",
   "pygments_lexer": "ipython3",
   "version": "3.11.4"
  }
 },
 "nbformat": 4,
 "nbformat_minor": 4
}
