{
 "cells": [
  {
   "cell_type": "code",
   "execution_count": 1,
   "outputs": [],
   "source": [
    "import tabula\n",
    "import pandas as pd"
   ],
   "metadata": {
    "collapsed": false
   }
  },
  {
   "cell_type": "code",
   "execution_count": 2,
   "outputs": [],
   "source": [
    "pdf_path = \"\"\n",
    "first_page_coordinates = [350,35,729,559]\n",
    "page_coordinates = [79,35,722,559]"
   ],
   "metadata": {
    "collapsed": false
   }
  },
  {
   "cell_type": "code",
   "execution_count": 3,
   "outputs": [],
   "source": [
    "total_pages = len(tabula.read_pdf(pdf_path,pages=\"all\",stream=True,guess=False))\n",
    "\n",
    "def get_data(page_number,coordinates):\n",
    "    area_option = f\"--area {','.join(map(str, coordinates))}\"\n",
    "    page_option = f\"--pages {page_number}\"\n",
    "    return tabula.read_pdf(pdf_path,pages=\"all\",options=f\"{area_option} {page_option}\",lattice=True,guess=False)"
   ],
   "metadata": {
    "collapsed": false
   }
  },
  {
   "cell_type": "code",
   "execution_count": 13,
   "outputs": [],
   "source": [
    "mpesa_page_one = get_data(1,first_page_coordinates)[0]\n",
    "mpesa_remaining = []\n",
    "\n",
    "for page in range(2,total_pages-1):\n",
    "    mpesa_rest = get_data(page,page_coordinates)[0]\n",
    "    mpesa_remaining.append(mpesa_rest)\n",
    "\n",
    "last_page = tabula.read_pdf(pdf_path,pages = total_pages,lattice=True,guess=False)"
   ],
   "metadata": {
    "collapsed": false
   }
  },
  {
   "cell_type": "code",
   "execution_count": null,
   "outputs": [],
   "source": [
    "mpesa_combined = pd.concat([mpesa_page_one]+mpesa_remaining+last_page)\n",
    "mpesa_combined"
   ],
   "metadata": {
    "collapsed": false,
    "pycharm": {
     "is_executing": true
    }
   }
  },
  {
   "cell_type": "code",
   "execution_count": null,
   "outputs": [],
   "source": [],
   "metadata": {
    "collapsed": false
   }
  }
 ],
 "metadata": {
  "kernelspec": {
   "display_name": "Python 3",
   "language": "python",
   "name": "python3"
  },
  "language_info": {
   "codemirror_mode": {
    "name": "ipython",
    "version": 2
   },
   "file_extension": ".py",
   "mimetype": "text/x-python",
   "name": "python",
   "nbconvert_exporter": "python",
   "pygments_lexer": "ipython2",
   "version": "2.7.6"
  }
 },
 "nbformat": 4,
 "nbformat_minor": 0
}
