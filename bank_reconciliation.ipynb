{
 "cells": [
  {
   "cell_type": "code",
   "execution_count": 1,
   "metadata": {
    "collapsed": false,
    "jupyter": {
     "outputs_hidden": false
    }
   },
   "outputs": [],
   "source": [
    "import tabula\n",
    "import pandas as pd\n",
    "import numpy as np"
   ]
  },
  {
   "cell_type": "code",
   "execution_count": 2,
   "metadata": {
    "collapsed": false,
    "jupyter": {
     "outputs_hidden": false
    }
   },
   "outputs": [],
   "source": [
    "# Replace 'bank_statement.pdf' with the actual path to your PDF file\n",
    "pdf_file_path = \"/home/arnold/Desktop/test/xxxxx/MPESA_Statement.pdf\""
   ]
  },
  {
   "cell_type": "code",
   "execution_count": 3,
   "metadata": {
    "collapsed": false,
    "jupyter": {
     "outputs_hidden": false
    }
   },
   "outputs": [],
   "source": [
    "def data_cleaning(data_frame):\n",
    "    # Dropping the unnecessary columns\n",
    "    data_frame = data_frame.drop(data_frame.columns[7:], axis=1)\n",
    "    data_frame = data_frame.drop(data_frame.columns[[3]], axis=1)\n",
    "    #Dropping NA rows in the receipt no. column\n",
    "    data_frame = data_frame.dropna(subset=\"Receipt No.\")\n",
    "    #converting completion time to date object\n",
    "    data_frame[\"Completion Time\"] = pd.to_datetime(data_frame[\"Completion Time\"]).dt.normalize()\n",
    "    #replacing \\r in the details column with space\n",
    "    data_frame[\"Details\"] =  data_frame[\"Details\"].str.replace(r\"\\r\",\" \",regex=True)\n",
    "    #replacing the minus sign in the withdrawn column\n",
    "    data_frame[\"Withdrawn\"] = data_frame[\"Withdrawn\"].str.replace(\"-\",\"\")\n",
    "    cols=[\"Paid In\",\"Withdrawn\",\"Balance\"]\n",
    "    data_frame[cols]= data_frame[cols].replace(\",\",\"\",regex=True)\n",
    "    #converting NAN to zero\n",
    "    data_frame= data_frame.fillna(0)\n",
    "    data_frame[cols] = data_frame[cols].apply(pd.to_numeric,axis=1)\n",
    "    data_frame = data_frame.reindex(index=data_frame.index[::-1])\n",
    "\n",
    "    return data_frame"
   ]
  },
  {
   "cell_type": "code",
   "execution_count": 4,
   "metadata": {
    "collapsed": false,
    "jupyter": {
     "outputs_hidden": false
    }
   },
   "outputs": [],
   "source": [
    "def extract_tables_from_pdf(pdf_file):\n",
    "    # Read the tables from the PDF file\n",
    "    tables = tabula.read_pdf(pdf_file, pages=\"all\", multiple_tables=True)\n",
    "\n",
    "    # Combine all tables except the first one into a single DataFrame\n",
    "    # We start at table 2 to ignore the summary tables\n",
    "    combined_df = pd.concat(tables[2:], ignore_index=True)\n",
    "    combined_df = data_cleaning(combined_df)\n",
    "    return combined_df"
   ]
  },
  {
   "cell_type": "code",
   "execution_count": null,
   "metadata": {
    "collapsed": false,
    "jupyter": {
     "outputs_hidden": false
    },
    "pycharm": {
     "is_executing": true
    }
   },
   "outputs": [],
   "source": [
    "combined_data_frame = extract_tables_from_pdf(pdf_file_path)\n",
    "combined_data_frame.head()"
   ]
  },
  {
   "cell_type": "code",
   "execution_count": 6,
   "metadata": {
    "collapsed": false,
    "jupyter": {
     "outputs_hidden": false
    }
   },
   "outputs": [
    {
     "data": {
      "text/plain": "Receipt No.                object\nCompletion Time    datetime64[ns]\nDetails                    object\nPaid In                   float64\nWithdrawn                 float64\nBalance                   float64\ndtype: object"
     },
     "execution_count": 6,
     "metadata": {},
     "output_type": "execute_result"
    }
   ],
   "source": [
    "combined_data_frame.dtypes"
   ]
  },
  {
   "cell_type": "code",
   "execution_count": 7,
   "metadata": {
    "collapsed": false,
    "jupyter": {
     "outputs_hidden": false
    }
   },
   "outputs": [],
   "source": [
    "#Categorisation of transactions\n",
    "categories = {\n",
    "    \"Income\":[\"Funds received from \",\"Deposit of Funds at Agent Till \"],\n",
    "    \"Contra entry\" : [\"Business Payment from \"],\n",
    "    \"Loan\" : [\"OverDraft of Credit Party\",\"KCB M-PESA Withdraw\",\"M-Shwari Withdraw\",\"M-Shwari Loan Disburse\"],\n",
    "    \"Airtime\" : [\"Airtime Purchase \",\"Airtime Purchase\"],\n",
    "    \"Bundles\" : [\"Buy Bundles \"],\n",
    "    \"Loan repayment\" : [\"OD Loan Repayment to 232323 - M-PESA Overdraw\",\"M-Shwari Loan Repayment\"],\n",
    "    \"Transaction charges\" : [\"Charge\"],\n",
    "    \"Expenses\" : [\"Pay Bill to \",\"Pay Bill Online to \",\"Pay Bill Fuliza \",\"Customer Payment to Small Business to \",\n",
    "                  \"Customer Transfer Fuliza MPesa to \",\"Merchant Payment to \",\"Customer Transfer to \"],\n",
    "    \"Agent withdrawals\" : [\"Customer Withdrawal At Agent Till \"]\n",
    "}\n"
   ]
  },
  {
   "cell_type": "code",
   "execution_count": 8,
   "metadata": {
    "collapsed": false,
    "jupyter": {
     "outputs_hidden": false
    }
   },
   "outputs": [],
   "source": [
    "def transaction_categorisation(df,category):\n",
    "    words = []\n",
    "    mapping_dict = {}\n",
    "\n",
    "    for i,j in category.items():\n",
    "        for item in j:\n",
    "            words.append(item)\n",
    "            mapping_dict[item] = i\n",
    "\n",
    "    joined_text = df[\"Details\"].str.extract(f\"({'|'.join(words)})\")\n",
    "    text_category = joined_text[0].map(mapping_dict)\n",
    "    text_category = text_category.fillna(\"Others\")\n",
    "    return text_category"
   ]
  },
  {
   "cell_type": "code",
   "execution_count": null,
   "metadata": {
    "collapsed": false,
    "jupyter": {
     "outputs_hidden": false
    },
    "pycharm": {
     "is_executing": true
    }
   },
   "outputs": [],
   "source": [
    "transaction_categories = transaction_categorisation(combined_data_frame,categories)\n",
    "combined_data_frame[\"Transaction Categories\"]=transaction_categories\n",
    "\n",
    "#combined_data_frame.insert(3,\"Transaction Categories\",transaction_categories)\n",
    "combined_data_frame.head()"
   ]
  },
  {
   "cell_type": "code",
   "execution_count": 10,
   "metadata": {
    "collapsed": false,
    "jupyter": {
     "outputs_hidden": false
    }
   },
   "outputs": [],
   "source": [
    "#Calculation of DTI\n",
    "total_deposits = combined_data_frame[\"Paid In\"].sum()\n",
    "total_withdrawals = combined_data_frame[\"Withdrawn\"].sum()\n",
    "contra_entry_credits = combined_data_frame.loc[combined_data_frame[\"Transaction Categories\"] ==\"Contra entry\",\"Paid In\"].sum()\n",
    "contra_entry_debits = combined_data_frame.loc[combined_data_frame[\"Transaction Categories\"] ==\"Contra entry\",\"Withdrawn\"].sum()\n",
    "net_amount = total_deposits - contra_entry_credits\n",
    "average_monthly_credits = net_amount/((combined_data_frame[\"Completion Time\"].iloc[0] - combined_data_frame[\"Completion Time\"].iloc[-1])/np.timedelta64(\"1\",\"M\"))\n",
    "business_dti = average_monthly_credits * 0.10"
   ]
  },
  {
   "cell_type": "code",
   "execution_count": 41,
   "metadata": {
    "collapsed": false,
    "jupyter": {
     "outputs_hidden": false
    }
   },
   "outputs": [],
   "source": [
    "# #Creating dataframe of dates and balances\n",
    "def calculate_daily_balances(dataframe):\n",
    "\n",
    "    unique_dates = dataframe[\"Completion Time\"].unique()\n",
    "    daily_dates = pd.date_range(start=dataframe[\"Completion Time\"].min(),\n",
    "                                 end=dataframe[\"Completion Time\"].max(),freq=\"D\")\n",
    "\n",
    "    cols = [\"Completion Time\",\"Balance\"]\n",
    "    daily_balances = dataframe[cols].copy()\n",
    "    daily_balances = daily_balances.drop_duplicates(\"Completion Time\",keep=\"last\")\n",
    "    daily_balances = daily_balances.set_index(\"Completion Time\")\n",
    "\n",
    "    if len(unique_dates) != len(daily_dates):\n",
    "        daily_balances = daily_balances.resample(\"D\").asfreq().fillna(method=\"ffill\")\n",
    "        return daily_balances\n",
    "\n",
    "    else:\n",
    "        return daily_balances"
   ]
  },
  {
   "cell_type": "code",
   "execution_count": 44,
   "outputs": [
    {
     "data": {
      "text/plain": "                  Balance\nCompletion Time          \n2022-12-13        6994.33\n2022-12-14       18098.33\n2022-12-15       18098.33\n2022-12-16       18098.33\n2022-12-17       18098.33",
      "text/html": "<div>\n<style scoped>\n    .dataframe tbody tr th:only-of-type {\n        vertical-align: middle;\n    }\n\n    .dataframe tbody tr th {\n        vertical-align: top;\n    }\n\n    .dataframe thead th {\n        text-align: right;\n    }\n</style>\n<table border=\"1\" class=\"dataframe\">\n  <thead>\n    <tr style=\"text-align: right;\">\n      <th></th>\n      <th>Balance</th>\n    </tr>\n    <tr>\n      <th>Completion Time</th>\n      <th></th>\n    </tr>\n  </thead>\n  <tbody>\n    <tr>\n      <th>2022-12-13</th>\n      <td>6994.33</td>\n    </tr>\n    <tr>\n      <th>2022-12-14</th>\n      <td>18098.33</td>\n    </tr>\n    <tr>\n      <th>2022-12-15</th>\n      <td>18098.33</td>\n    </tr>\n    <tr>\n      <th>2022-12-16</th>\n      <td>18098.33</td>\n    </tr>\n    <tr>\n      <th>2022-12-17</th>\n      <td>18098.33</td>\n    </tr>\n  </tbody>\n</table>\n</div>"
     },
     "execution_count": 44,
     "metadata": {},
     "output_type": "execute_result"
    }
   ],
   "source": [
    "latest_running_balance = calculate_daily_balances(combined_data_frame)\n",
    "latest_running_balance.head()"
   ],
   "metadata": {
    "collapsed": false
   }
  },
  {
   "cell_type": "code",
   "execution_count": 61,
   "outputs": [
    {
     "data": {
      "text/plain": "                  Paid In   Withdrawn\nCompletion Time                      \n2022-12-31       965150.0  1006035.56\n2023-01-31       353990.0   356763.96\n2023-02-28       232300.0   233747.28\n2023-03-31       737820.0   737892.70\n2023-04-30       507730.0   508218.38\n2023-05-31       379730.0   364681.00\n2023-06-30       166666.0   181832.36",
      "text/html": "<div>\n<style scoped>\n    .dataframe tbody tr th:only-of-type {\n        vertical-align: middle;\n    }\n\n    .dataframe tbody tr th {\n        vertical-align: top;\n    }\n\n    .dataframe thead th {\n        text-align: right;\n    }\n</style>\n<table border=\"1\" class=\"dataframe\">\n  <thead>\n    <tr style=\"text-align: right;\">\n      <th></th>\n      <th>Paid In</th>\n      <th>Withdrawn</th>\n    </tr>\n    <tr>\n      <th>Completion Time</th>\n      <th></th>\n      <th></th>\n    </tr>\n  </thead>\n  <tbody>\n    <tr>\n      <th>2022-12-31</th>\n      <td>965150.0</td>\n      <td>1006035.56</td>\n    </tr>\n    <tr>\n      <th>2023-01-31</th>\n      <td>353990.0</td>\n      <td>356763.96</td>\n    </tr>\n    <tr>\n      <th>2023-02-28</th>\n      <td>232300.0</td>\n      <td>233747.28</td>\n    </tr>\n    <tr>\n      <th>2023-03-31</th>\n      <td>737820.0</td>\n      <td>737892.70</td>\n    </tr>\n    <tr>\n      <th>2023-04-30</th>\n      <td>507730.0</td>\n      <td>508218.38</td>\n    </tr>\n    <tr>\n      <th>2023-05-31</th>\n      <td>379730.0</td>\n      <td>364681.00</td>\n    </tr>\n    <tr>\n      <th>2023-06-30</th>\n      <td>166666.0</td>\n      <td>181832.36</td>\n    </tr>\n  </tbody>\n</table>\n</div>"
     },
     "execution_count": 61,
     "metadata": {},
     "output_type": "execute_result"
    }
   ],
   "source": [
    "monthly_transactions = combined_data_frame.resample(rule=\"M\",on=\"Completion Time\").sum()\n",
    "monthly_transactions = monthly_transactions.drop(\"Balance\",axis=1)\n",
    "monthly_transactions"
   ],
   "metadata": {
    "collapsed": false
   }
  },
  {
   "cell_type": "code",
   "execution_count": null,
   "outputs": [],
   "source": [],
   "metadata": {
    "collapsed": false
   }
  }
 ],
 "metadata": {
  "kernelspec": {
   "display_name": "Python 3 (ipykernel)",
   "language": "python",
   "name": "python3"
  },
  "language_info": {
   "codemirror_mode": {
    "name": "ipython",
    "version": 3
   },
   "file_extension": ".py",
   "mimetype": "text/x-python",
   "name": "python",
   "nbconvert_exporter": "python",
   "pygments_lexer": "ipython3",
   "version": "3.8.8"
  }
 },
 "nbformat": 4,
 "nbformat_minor": 4
}
