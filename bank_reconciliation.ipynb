{
 "cells": [
  {
   "cell_type": "code",
   "execution_count": 28,
   "outputs": [],
   "source": [
    "import tabula\n",
    "import pandas as pd"
   ],
   "metadata": {
    "collapsed": false
   }
  },
  {
   "cell_type": "code",
   "execution_count": 39,
   "outputs": [],
   "source": [
    "# Replace 'bank_statement.pdf' with the actual path to your PDF file\n",
    "pdf_file_path = 'path_to_mpesa_statement'"
   ],
   "metadata": {
    "collapsed": false
   }
  },
  {
   "cell_type": "code",
   "execution_count": 40,
   "outputs": [],
   "source": [
    "def data_cleaning(data_frame):\n",
    "    # Dropping the unnecessary columns\n",
    "    data_frame = data_frame.drop(data_frame.columns[7:], axis=1)\n",
    "    data_frame = data_frame.drop(data_frame.columns[[3]], axis=1)\n",
    "    #Dropping NA rows in the receipt no. column\n",
    "    data_frame = data_frame.dropna(subset=\"Receipt No.\")\n",
    "    #converting completion time to date object\n",
    "    data_frame[\"Completion Time\"] = pd.to_datetime(data_frame[\"Completion Time\"])\n",
    "    #replacing \\r in the details column with space\n",
    "    data_frame[\"Details\"] =  data_frame[\"Details\"].str.replace(r\"\\r\",\" \",regex=True)\n",
    "    #replacing the minus sign in the withdrawn column\n",
    "    data_frame[\"Withdrawn\"] = data_frame[\"Withdrawn\"].str.replace(\"-\",\"\")\n",
    "    #converting NAN to zero\n",
    "    data_frame= data_frame.fillna(0)\n",
    "    return data_frame"
   ],
   "metadata": {
    "collapsed": false
   }
  },
  {
   "cell_type": "code",
   "execution_count": 41,
   "outputs": [],
   "source": [
    "def extract_tables_from_pdf(pdf_file):\n",
    "    # Read the tables from the PDF file\n",
    "    tables = tabula.read_pdf(pdf_file, pages=\"all\", multiple_tables=True)\n",
    "\n",
    "    # Combine all tables except the first one into a single DataFrame\n",
    "    # We start at table 2 to ignore the summary table\n",
    "    combined_df = pd.concat(tables[2:], ignore_index=True)\n",
    "    combined_df = data_cleaning(combined_df)\n",
    "    return combined_df"
   ],
   "metadata": {
    "collapsed": false
   }
  },
  {
   "cell_type": "code",
   "execution_count": 42,
   "outputs": [
    {
     "data": {
      "text/plain": "    Receipt No.     Completion Time  \\\n0    NEE4WCCJUO 2019-05-14 12:18:33   \n1    NEE4WCCJUO 2019-05-14 12:18:33   \n2    NEE5WCB09V 2019-05-14 12:16:50   \n3    NEE5WCAYST 2019-05-14 12:16:50   \n4    NED5W14995 2019-05-13 20:24:36   \n..          ...                 ...   \n680  ND29X07UKJ 2019-04-02 10:34:23   \n681  NCM7O7CMDJ 2019-03-22 09:13:13   \n682  NCM5O7CNQN 2019-03-22 09:13:12   \n683  NC369EOZUY 2019-03-03 22:52:34   \n684  NC349EP1UA 2019-03-03 22:52:34   \n\n                                               Details   Paid In Withdrawn  \\\n0                    Customer Transfer of Funds Charge         0     11.00   \n1    Customer Transfer Fuliza M-Pesa to 25479858860...         0    227.00   \n2    Receive International Zero Rated Transfer From...    914.00         0   \n3        OD Loan Repayment to 232323 - M-PESA Overdraw         0    914.00   \n4                            OverDraft of Credit Party     17.00         0   \n..                                                 ...       ...       ...   \n680  Funds received from 254711643521 - SAOKE ALLAN...     50.00         0   \n681      OD Loan Repayment to 232323 - M-PESA Overdraw         0     50.00   \n682  Funds received from 254711643521 - SAOKE ALLAN...     50.00         0   \n683      OD Loan Repayment to 232323 - M-PESA Overdraw         0  1,117.00   \n684  Receive International Zero Rated Transfer From...  1,117.00         0   \n\n      Balance  \n0        0.00  \n1     -227.00  \n2      914.00  \n3        0.00  \n4        0.00  \n..        ...  \n680     50.00  \n681      0.00  \n682     50.00  \n683      0.00  \n684  1,117.00  \n\n[685 rows x 6 columns]",
      "text/html": "<div>\n<style scoped>\n    .dataframe tbody tr th:only-of-type {\n        vertical-align: middle;\n    }\n\n    .dataframe tbody tr th {\n        vertical-align: top;\n    }\n\n    .dataframe thead th {\n        text-align: right;\n    }\n</style>\n<table border=\"1\" class=\"dataframe\">\n  <thead>\n    <tr style=\"text-align: right;\">\n      <th></th>\n      <th>Receipt No.</th>\n      <th>Completion Time</th>\n      <th>Details</th>\n      <th>Paid In</th>\n      <th>Withdrawn</th>\n      <th>Balance</th>\n    </tr>\n  </thead>\n  <tbody>\n    <tr>\n      <th>0</th>\n      <td>NEE4WCCJUO</td>\n      <td>2019-05-14 12:18:33</td>\n      <td>Customer Transfer of Funds Charge</td>\n      <td>0</td>\n      <td>11.00</td>\n      <td>0.00</td>\n    </tr>\n    <tr>\n      <th>1</th>\n      <td>NEE4WCCJUO</td>\n      <td>2019-05-14 12:18:33</td>\n      <td>Customer Transfer Fuliza M-Pesa to 25479858860...</td>\n      <td>0</td>\n      <td>227.00</td>\n      <td>-227.00</td>\n    </tr>\n    <tr>\n      <th>2</th>\n      <td>NEE5WCB09V</td>\n      <td>2019-05-14 12:16:50</td>\n      <td>Receive International Zero Rated Transfer From...</td>\n      <td>914.00</td>\n      <td>0</td>\n      <td>914.00</td>\n    </tr>\n    <tr>\n      <th>3</th>\n      <td>NEE5WCAYST</td>\n      <td>2019-05-14 12:16:50</td>\n      <td>OD Loan Repayment to 232323 - M-PESA Overdraw</td>\n      <td>0</td>\n      <td>914.00</td>\n      <td>0.00</td>\n    </tr>\n    <tr>\n      <th>4</th>\n      <td>NED5W14995</td>\n      <td>2019-05-13 20:24:36</td>\n      <td>OverDraft of Credit Party</td>\n      <td>17.00</td>\n      <td>0</td>\n      <td>0.00</td>\n    </tr>\n    <tr>\n      <th>...</th>\n      <td>...</td>\n      <td>...</td>\n      <td>...</td>\n      <td>...</td>\n      <td>...</td>\n      <td>...</td>\n    </tr>\n    <tr>\n      <th>680</th>\n      <td>ND29X07UKJ</td>\n      <td>2019-04-02 10:34:23</td>\n      <td>Funds received from 254711643521 - SAOKE ALLAN...</td>\n      <td>50.00</td>\n      <td>0</td>\n      <td>50.00</td>\n    </tr>\n    <tr>\n      <th>681</th>\n      <td>NCM7O7CMDJ</td>\n      <td>2019-03-22 09:13:13</td>\n      <td>OD Loan Repayment to 232323 - M-PESA Overdraw</td>\n      <td>0</td>\n      <td>50.00</td>\n      <td>0.00</td>\n    </tr>\n    <tr>\n      <th>682</th>\n      <td>NCM5O7CNQN</td>\n      <td>2019-03-22 09:13:12</td>\n      <td>Funds received from 254711643521 - SAOKE ALLAN...</td>\n      <td>50.00</td>\n      <td>0</td>\n      <td>50.00</td>\n    </tr>\n    <tr>\n      <th>683</th>\n      <td>NC369EOZUY</td>\n      <td>2019-03-03 22:52:34</td>\n      <td>OD Loan Repayment to 232323 - M-PESA Overdraw</td>\n      <td>0</td>\n      <td>1,117.00</td>\n      <td>0.00</td>\n    </tr>\n    <tr>\n      <th>684</th>\n      <td>NC349EP1UA</td>\n      <td>2019-03-03 22:52:34</td>\n      <td>Receive International Zero Rated Transfer From...</td>\n      <td>1,117.00</td>\n      <td>0</td>\n      <td>1,117.00</td>\n    </tr>\n  </tbody>\n</table>\n<p>685 rows × 6 columns</p>\n</div>"
     },
     "execution_count": 42,
     "metadata": {},
     "output_type": "execute_result"
    }
   ],
   "source": [
    "combined_data_frame = extract_tables_from_pdf(pdf_file_path)\n",
    "combined_data_frame"
   ],
   "metadata": {
    "collapsed": false
   }
  },
  {
   "cell_type": "code",
   "execution_count": 43,
   "outputs": [
    {
     "data": {
      "text/plain": "Receipt No.                object\nCompletion Time    datetime64[ns]\nDetails                    object\nPaid In                    object\nWithdrawn                  object\nBalance                    object\ndtype: object"
     },
     "execution_count": 43,
     "metadata": {},
     "output_type": "execute_result"
    }
   ],
   "source": [
    "combined_data_frame.dtypes"
   ],
   "metadata": {
    "collapsed": false
   }
  },
  {
   "cell_type": "code",
   "execution_count": null,
   "outputs": [],
   "source": [],
   "metadata": {
    "collapsed": false
   }
  }
 ],
 "metadata": {
  "kernelspec": {
   "display_name": "Python 3",
   "language": "python",
   "name": "python3"
  },
  "language_info": {
   "codemirror_mode": {
    "name": "ipython",
    "version": 2
   },
   "file_extension": ".py",
   "mimetype": "text/x-python",
   "name": "python",
   "nbconvert_exporter": "python",
   "pygments_lexer": "ipython2",
   "version": "2.7.6"
  }
 },
 "nbformat": 4,
 "nbformat_minor": 0
}
